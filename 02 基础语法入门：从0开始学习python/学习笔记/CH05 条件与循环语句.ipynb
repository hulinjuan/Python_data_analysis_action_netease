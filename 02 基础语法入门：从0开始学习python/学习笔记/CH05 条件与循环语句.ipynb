{
 "cells": [
  {
   "cell_type": "code",
   "execution_count": 1,
   "metadata": {},
   "outputs": [
    {
     "name": "stdout",
     "output_type": "stream",
     "text": [
      "18岁以下不能\n",
      "finished\n"
     ]
    }
   ],
   "source": [
    "#基本的条件判断\n",
    "\n",
    "age = 16\n",
    "if age < 18:\n",
    "    print('18岁以下不能')\n",
    "print(\"finished\")"
   ]
  },
  {
   "cell_type": "code",
   "execution_count": 2,
   "metadata": {},
   "outputs": [
    {
     "name": "stdout",
     "output_type": "stream",
     "text": [
      "请输入成绩：89\n",
      "89 <class 'str'>\n",
      "该学生成绩为89\n"
     ]
    }
   ],
   "source": [
    "#输入函数input \n",
    "score = input(\"请输入成绩：\")\n",
    "print('该学生成绩为%s' %score)\n",
    "print(score,type(score))"
   ]
  },
  {
   "cell_type": "code",
   "execution_count": 3,
   "metadata": {},
   "outputs": [
    {
     "name": "stdout",
     "output_type": "stream",
     "text": [
      "请输入成绩：89\n",
      "该学生成绩为89.00\n",
      "89.0 <class 'float'>\n"
     ]
    }
   ],
   "source": [
    "#输入函数input \n",
    "score = float(input(\"请输入成绩：\"))\n",
    "print('该学生成绩为%.2f' %score)\n",
    "print(score,type(score))"
   ]
  },
  {
   "cell_type": "code",
   "execution_count": 5,
   "metadata": {},
   "outputs": [
    {
     "name": "stdout",
     "output_type": "stream",
     "text": [
      "年龄为：16\n",
      "18岁以下不能浪\n",
      "finished!\n"
     ]
    }
   ],
   "source": [
    "#if-else \n",
    "age = float(input(\"年龄为：\"))\n",
    "if age < 18:\n",
    "    print('18岁以下不能浪')\n",
    "else:\n",
    "    print(\"可以浪了\")\n",
    "print('finished!')"
   ]
  },
  {
   "cell_type": "code",
   "execution_count": 6,
   "metadata": {},
   "outputs": [
    {
     "name": "stdout",
     "output_type": "stream",
     "text": [
      "请输入一个数字：3\n",
      "3\n"
     ]
    }
   ],
   "source": [
    "#多条件判断\n",
    "num = int(input('请输入一个数字：'))\n",
    "if  num == 3:\n",
    "    print(3)\n",
    "elif num == 2:\n",
    "    print(2)\n",
    "elif num < 0:\n",
    "    print('error')\n",
    "else:\n",
    "    print('undefine')\n",
    "  "
   ]
  },
  {
   "cell_type": "code",
   "execution_count": 8,
   "metadata": {},
   "outputs": [
    {
     "name": "stdout",
     "output_type": "stream",
     "text": [
      "hello\n",
      "undefine\n"
     ]
    }
   ],
   "source": [
    "#单语句多条件判断： or  and\n",
    "num = 5\n",
    "if  num>=0 and num <= 10:\n",
    "    print('hello')\n",
    "    \n",
    "num = 5\n",
    "if  num<0 or num > 10:\n",
    "    print('hello')    \n",
    "else:\n",
    "    print('undefine')"
   ]
  },
  {
   "cell_type": "code",
   "execution_count": 9,
   "metadata": {},
   "outputs": [
    {
     "name": "stdout",
     "output_type": "stream",
     "text": [
      "hello\n",
      "hello\n",
      "hello\n",
      "hello\n",
      "hello\n"
     ]
    }
   ],
   "source": [
    "for i in range(5):\n",
    "    print('hello')"
   ]
  },
  {
   "cell_type": "code",
   "execution_count": 10,
   "metadata": {},
   "outputs": [
    {
     "name": "stdout",
     "output_type": "stream",
     "text": [
      "0\n",
      "1\n",
      "2\n",
      "3\n",
      "4\n",
      "----\n",
      "Tom年龄为:18岁\n",
      "Jack年龄为:19岁\n",
      "Alex年龄为:17岁\n",
      "Nary年龄为:20岁\n"
     ]
    }
   ],
   "source": [
    "lst = list(range(10))\n",
    "for i in lst[:5]:\n",
    "    print(i)\n",
    "print('----')\n",
    "\n",
    "#遍历list\n",
    "\n",
    "age = {'Tom':18,'Jack':19,'Alex':17,'Nary':20}\n",
    "for name in age:\n",
    "    print(name + '年龄为:%s岁' %age[name])\n",
    "    "
   ]
  },
  {
   "cell_type": "code",
   "execution_count": 12,
   "metadata": {},
   "outputs": [
    {
     "name": "stdout",
     "output_type": "stream",
     "text": [
      "0 0\n",
      "0 1\n",
      "0 2\n",
      "0 3\n",
      "0 4\n",
      "1 0\n",
      "1 1\n",
      "1 2\n",
      "1 3\n",
      "1 4\n",
      "2 0\n",
      "2 1\n",
      "2 2\n",
      "2 3\n",
      "2 4\n",
      "3 0\n",
      "3 1\n",
      "3 2\n",
      "3 3\n",
      "3 4\n",
      "4 0\n",
      "4 1\n",
      "4 2\n",
      "4 3\n",
      "4 4\n",
      "5 0\n",
      "5 1\n",
      "5 2\n",
      "5 3\n",
      "5 4\n",
      "6 0\n",
      "6 1\n",
      "6 2\n",
      "6 3\n",
      "6 4\n",
      "7 0\n",
      "7 1\n",
      "7 2\n",
      "7 3\n",
      "7 4\n",
      "8 0\n",
      "8 1\n",
      "8 2\n",
      "8 3\n",
      "8 4\n",
      "9 0\n",
      "9 1\n",
      "9 2\n",
      "9 3\n",
      "9 4\n"
     ]
    }
   ],
   "source": [
    "#嵌套循环\n",
    "for i in range(10):\n",
    "    for j in range(5):\n",
    "        print(i,j)"
   ]
  },
  {
   "cell_type": "code",
   "execution_count": 13,
   "metadata": {},
   "outputs": [
    {
     "name": "stdout",
     "output_type": "stream",
     "text": [
      "请输入字符串ajfekf\n",
      "a\n",
      "j\n",
      "f\n",
      "e\n",
      "k\n",
      "f\n"
     ]
    }
   ],
   "source": [
    "st = input('请输入字符串')\n",
    "for s in st:\n",
    "    print(s) "
   ]
  },
  {
   "cell_type": "code",
   "execution_count": 16,
   "metadata": {},
   "outputs": [
    {
     "name": "stdout",
     "output_type": "stream",
     "text": [
      "请输入首项：1\n",
      "请输入项数：5\n",
      "请输入公差：1\n",
      "15.0\n"
     ]
    }
   ],
   "source": [
    "#等差数列求和\n",
    "a = float(input('请输入首项：'))\n",
    "n= int(input('请输入项数：'))\n",
    "d = float(input('请输入公差：'))\n",
    "#a1 = a \n",
    "#a2 = a + d\n",
    "#a3 = a2 + d = a + 2*d\n",
    "#a4 = a*3 + d\n",
    "s = 0 \n",
    "for i in range(n):\n",
    "    an = a + d*i\n",
    "    s = s+an\n",
    "print(s)"
   ]
  },
  {
   "cell_type": "code",
   "execution_count": 19,
   "metadata": {},
   "outputs": [
    {
     "name": "stdout",
     "output_type": "stream",
     "text": [
      "['a', 1]\n",
      "['b', 2]\n",
      "['c', 3]\n",
      "[['a', 1], ['b', 2], ['c', 3]]\n",
      "{'a': 1, 'b': 2, 'c': 3}\n",
      "finished!\n"
     ]
    }
   ],
   "source": [
    "lst1 = ['a','b','c']\n",
    "lst2 = [1,2,3]\n",
    "{'a':1,'b':2,'c':3}\n",
    "[['a',1],['b',2],['c',3]]\n",
    "m = []\n",
    "for i in range(3):\n",
    "    lsti = [lst1[i],lst2[i]]\n",
    "    print(lsti)\n",
    "    m.append(lsti)\n",
    "print(m)\n",
    "dic = dict(m)\n",
    "print(dic)\n",
    "print('finished!')"
   ]
  },
  {
   "cell_type": "code",
   "execution_count": 21,
   "metadata": {},
   "outputs": [
    {
     "name": "stdout",
     "output_type": "stream",
     "text": [
      "the count is: 0\n",
      "the count is: 1\n",
      "the count is: 2\n",
      "the count is: 3\n",
      "the count is: 4\n",
      "the count is: 5\n",
      "the count is: 6\n",
      "the count is: 7\n",
      "the count is: 8\n",
      "good bye!\n"
     ]
    }
   ],
   "source": [
    "#基本运行逻辑\n",
    "count = 0\n",
    "while count < 9:\n",
    "    print('the count is:',count)\n",
    "    count = count + 1\n",
    "print('good bye!')\n"
   ]
  },
  {
   "cell_type": "code",
   "execution_count": 24,
   "metadata": {},
   "outputs": [
    {
     "name": "stdout",
     "output_type": "stream",
     "text": [
      "请输入一个数字：6\n",
      "var=6.000000\n"
     ]
    }
   ],
   "source": [
    "#无限循环\n",
    "var = 1\n",
    "while var < 2:\n",
    "    var = float(input(\"请输入一个数字：\"))  #删掉之后就是无限循环\n",
    "    print(\"var=%f\" %var)"
   ]
  },
  {
   "cell_type": "code",
   "execution_count": 26,
   "metadata": {},
   "outputs": [
    {
     "name": "stdout",
     "output_type": "stream",
     "text": [
      "0 count小于5\n",
      "1 count小于5\n",
      "2 count小于5\n",
      "3 count小于5\n",
      "4 count小于5\n",
      "count大于等于5\n"
     ]
    }
   ],
   "source": [
    "#while-else\n",
    "count = 0\n",
    "while count < 5:\n",
    "    print(count,'count小于5')\n",
    "    count += 1\n",
    "else:\n",
    "    print('count大于等于5')"
   ]
  },
  {
   "cell_type": "code",
   "execution_count": 30,
   "metadata": {},
   "outputs": [
    {
     "name": "stdout",
     "output_type": "stream",
     "text": [
      "190\n"
     ]
    }
   ],
   "source": [
    "#循环控制语句break,continue,pass\n",
    "#break：终止循环并跳出整个循环\n",
    "#continue：在语句块执行过程中跳出该次循环，执行下一次循环\n",
    "#pass:是空语句，是为了保持程序结构的完整性\n",
    "\n",
    "##break语句\n",
    "s = 0 \n",
    "n = 1\n",
    "while n > 0:\n",
    "    s = s+n\n",
    "    n += 1\n",
    "    if n == 20:\n",
    "        break\n",
    "print(s)\n"
   ]
  },
  {
   "cell_type": "code",
   "execution_count": 32,
   "metadata": {},
   "outputs": [
    {
     "name": "stdout",
     "output_type": "stream",
     "text": [
      "第1次运算\n",
      "第2次运算\n",
      "第3次运算\n",
      "第4次运算\n",
      "第5次运算\n",
      "第6次运算\n",
      "第7次运算\n",
      "第8次运算\n",
      "第9次运算\n",
      "第10次运算\n",
      "第11次运算\n",
      "第12次运算\n",
      "第13次运算\n",
      "第14次运算\n",
      "第15次运算\n",
      "第16次运算\n",
      "第17次运算\n",
      "第18次运算\n",
      "第19次运算\n",
      "第20次运算\n",
      "第21次运算\n",
      "22\n"
     ]
    }
   ],
   "source": [
    "s = 0\n",
    "n = 0\n",
    "for i in range(10):\n",
    "    for j in range(5):\n",
    "        s =s + (i*j)\n",
    "        n += 1\n",
    "        print('第%i次运算' %n)\n",
    "        if s > 20:\n",
    "            break\n",
    "print(s)"
   ]
  },
  {
   "cell_type": "code",
   "execution_count": 33,
   "metadata": {},
   "outputs": [
    {
     "name": "stdout",
     "output_type": "stream",
     "text": [
      "0\n",
      "第0次计算\n",
      "2\n",
      "第1次计算\n",
      "4\n",
      "第2次计算\n",
      "6\n",
      "第3次计算\n",
      "8\n",
      "第4次计算\n",
      "10\n",
      "第5次计算\n",
      "12\n",
      "第6次计算\n",
      "14\n",
      "第7次计算\n",
      "16\n",
      "第8次计算\n",
      "18\n",
      "第9次计算\n",
      "20\n",
      "第10次计算\n",
      "22\n",
      "第11次计算\n",
      "24\n",
      "第12次计算\n",
      "26\n",
      "第13次计算\n",
      "28\n",
      "第14次计算\n",
      "30\n",
      "第15次计算\n",
      "32\n",
      "第16次计算\n",
      "34\n",
      "第17次计算\n",
      "36\n",
      "第18次计算\n",
      "38\n",
      "第19次计算\n",
      "40\n",
      "第20次计算\n",
      "42\n",
      "第21次计算\n",
      "44\n",
      "第22次计算\n",
      "46\n",
      "第23次计算\n",
      "48\n",
      "第24次计算\n",
      "结果为600\n"
     ]
    }
   ],
   "source": [
    "##continue语句\n",
    "s = 0\n",
    "for i in range(50):\n",
    "    if i%2 == 0:\n",
    "        s =s + i\n",
    "    else:\n",
    "        continue\n",
    "    print(i)\n",
    "    print('第%i次计算'%(i/2))\n",
    "print('结果为%i' %s)"
   ]
  },
  {
   "cell_type": "code",
   "execution_count": 34,
   "metadata": {},
   "outputs": [
    {
     "name": "stdout",
     "output_type": "stream",
     "text": [
      "n等于0\n",
      "n等于1\n",
      "n等于2\n",
      "n等于3\n",
      "n等于4\n",
      "n等于5\n",
      "n等于6\n",
      "n等于7\n",
      "n等于8\n",
      "n等于9\n",
      "n等于12\n",
      "n等于13\n",
      "n等于14\n",
      "n等于15\n",
      "n等于16\n",
      "n等于17\n",
      "n等于18\n",
      "n等于19\n"
     ]
    }
   ],
   "source": [
    "#跳过n =10的这个值\n",
    "n  = 0 \n",
    "while n < 20:\n",
    "    if n== 10:\n",
    "        n =12\n",
    "        continue\n",
    "    print(\"n等于%i\" %n)\n",
    "    n += 1"
   ]
  },
  {
   "cell_type": "code",
   "execution_count": null,
   "metadata": {},
   "outputs": [],
   "source": [
    "#pass语句\n",
    "for letter in 'Python':\n",
    "    if letter == 'h':\n",
    "        pass\n",
    "        print('当前字母为：h,但是我pass了')"
   ]
  }
 ],
 "metadata": {
  "kernelspec": {
   "display_name": "Python 3",
   "language": "python",
   "name": "python3"
  },
  "language_info": {
   "codemirror_mode": {
    "name": "ipython",
    "version": 3
   },
   "file_extension": ".py",
   "mimetype": "text/x-python",
   "name": "python",
   "nbconvert_exporter": "python",
   "pygments_lexer": "ipython3",
   "version": "3.6.5"
  }
 },
 "nbformat": 4,
 "nbformat_minor": 2
}
