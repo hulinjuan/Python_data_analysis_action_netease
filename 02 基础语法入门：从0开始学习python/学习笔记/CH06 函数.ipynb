{
 "cells": [
  {
   "cell_type": "code",
   "execution_count": 2,
   "metadata": {},
   "outputs": [
    {
     "name": "stdout",
     "output_type": "stream",
     "text": [
      "请输入一个数字99\n",
      "正数\n"
     ]
    }
   ],
   "source": [
    "#定义函数\n",
    "var = float(input('请输入一个数字'))\n",
    "if var > 0:\n",
    "    print(\"正数\")\n",
    "elif var == 0:\n",
    "    print(\"为0\")\n",
    "else:\n",
    "    print(\"负数\")"
   ]
  },
  {
   "cell_type": "code",
   "execution_count": 3,
   "metadata": {},
   "outputs": [
    {
     "name": "stdout",
     "output_type": "stream",
     "text": [
      "请输入一个数字99\n",
      "正数\n",
      "请输入第二个数字15\n",
      "正数\n"
     ]
    }
   ],
   "source": [
    "var = float(input('请输入一个数字'))\n",
    "def f(x):\n",
    "    if var > 0:\n",
    "        print(\"正数\")\n",
    "    elif var == 0:\n",
    "        print(\"为0\")\n",
    "    else:\n",
    "        print(\"负数\")\n",
    "f(var)\n",
    "var2 = float(input('请输入第二个数字'))\n",
    "f(var2)"
   ]
  },
  {
   "cell_type": "code",
   "execution_count": 5,
   "metadata": {},
   "outputs": [
    {
     "data": {
      "text/plain": [
       "32"
      ]
     },
     "execution_count": 5,
     "metadata": {},
     "output_type": "execute_result"
    }
   ],
   "source": [
    "#关于return \n",
    "def f1(x):\n",
    "    y = 2**x\n",
    "    return y #注释掉运行试试看\n",
    "f1(5)"
   ]
  },
  {
   "cell_type": "code",
   "execution_count": 10,
   "metadata": {},
   "outputs": [
    {
     "name": "stdout",
     "output_type": "stream",
     "text": [
      "[[1, 'a'], [2, 'b'], [3, 'c']]\n"
     ]
    }
   ],
   "source": [
    "#默认参数\n",
    "def f(lst1,lst2=['a','b','c']):\n",
    "    m = []\n",
    "    for i in range(len(lst1)):\n",
    "        m.append([lst1[i],lst2[i]])\n",
    "    return m\n",
    "a = [1,2,3]\n",
    "#b=['a','b','c']\n",
    "#f(a,b)\n",
    "print(f(a))"
   ]
  },
  {
   "cell_type": "code",
   "execution_count": 14,
   "metadata": {},
   "outputs": [
    {
     "name": "stdout",
     "output_type": "stream",
     "text": [
      "(1, 2, 3, 4, 5, 6)\n",
      "<class 'tuple'>\n"
     ]
    }
   ],
   "source": [
    "#可变参数\n",
    "def f(*x):\n",
    "    return x\n",
    "print(f(1,2,3,4,5,6))\n",
    "print(type(f(1,2,3,[33,44])))"
   ]
  },
  {
   "cell_type": "code",
   "execution_count": 15,
   "metadata": {},
   "outputs": [
    {
     "name": "stdout",
     "output_type": "stream",
     "text": [
      "请输入一个字符串：fjkfekf\n",
      "f\n",
      "j\n",
      "k\n",
      "f\n",
      "e\n",
      "k\n",
      "f\n"
     ]
    }
   ],
   "source": [
    "###小作业\n",
    "#（1）函数f(x)，输入一个字符串，分别print出每个字母\n",
    "def f(st):\n",
    "    for s in st:\n",
    "        print(s)\n",
    "st_input = input(\"请输入一个字符串：\")\n",
    "f(st_input)"
   ]
  },
  {
   "cell_type": "code",
   "execution_count": 18,
   "metadata": {},
   "outputs": [
    {
     "name": "stdout",
     "output_type": "stream",
     "text": [
      "32\n"
     ]
    }
   ],
   "source": [
    "#（2）f(x,y,z)函数内部算法：生成(（x+y）(x-y))*z\n",
    "def f(a,b,c):\n",
    "    y=((a+b)*(a-b))*c\n",
    "    return y\n",
    "print(f(5,3,2))"
   ]
  },
  {
   "cell_type": "code",
   "execution_count": 22,
   "metadata": {},
   "outputs": [
    {
     "name": "stdout",
     "output_type": "stream",
     "text": [
      "[1]\n",
      "[1, 2]\n",
      "输入内容包含非数字\n",
      "[1, 2]\n",
      "[1, 2, 4]\n",
      "[1, 2, 4, 5]\n"
     ]
    },
    {
     "data": {
      "text/plain": [
       "3.0"
      ]
     },
     "execution_count": 22,
     "metadata": {},
     "output_type": "execute_result"
    }
   ],
   "source": [
    "#（3）编写一个求平均值的函数\n",
    "def f(*m):\n",
    "    s = 0\n",
    "    lst = []\n",
    "    for i in m:     \n",
    "        while str(i).isnumeric():\n",
    "            s += i \n",
    "            lst.append(i)\n",
    "            break\n",
    "        else:\n",
    "            print(\"输入内容包含非数字\")\n",
    "        print(lst)\n",
    "    return(s/len(lst))\n",
    "#f(1,2,3,4,5)\n",
    "f(1,2,'a',4,5)"
   ]
  },
  {
   "cell_type": "code",
   "execution_count": 37,
   "metadata": {},
   "outputs": [
    {
     "name": "stdout",
     "output_type": "stream",
     "text": [
      "矩形面积：12.00\n",
      "圆形面积：78.50\n"
     ]
    }
   ],
   "source": [
    "#（4）定义一个函数，用于求矩形面积，圆形面积\n",
    "def area_jx(a,b):\n",
    "    return a*b\n",
    "def area_yx(r):\n",
    "    return r*r*3.14\n",
    "\n",
    "print(\"矩形面积：%.2f\"  % (area_jx(3,4)))\n",
    "print(\"圆形面积：%.2f\" % (area_yx(5)))\n",
    "    "
   ]
  },
  {
   "cell_type": "code",
   "execution_count": 39,
   "metadata": {},
   "outputs": [
    {
     "name": "stdout",
     "output_type": "stream",
     "text": [
      "请输入一个列表：['a','b','c']\n"
     ]
    },
    {
     "data": {
      "text/plain": [
       "{'a': 0, 'b': 0, 'c': 0}"
      ]
     },
     "execution_count": 39,
     "metadata": {},
     "output_type": "execute_result"
    }
   ],
   "source": [
    "#定义一个函数，函数的作用是把输入的列表变成一连串字典的key，并生成字典，需要用input函数\n",
    "lst = eval(input(\"请输入一个列表：\"))\n",
    "\n",
    "def f(lt):\n",
    "    return(dict.fromkeys(lt,0))\n",
    "f(lst)"
   ]
  },
  {
   "cell_type": "code",
   "execution_count": 43,
   "metadata": {},
   "outputs": [
    {
     "name": "stdout",
     "output_type": "stream",
     "text": [
      "10\n",
      "呵呵\n",
      "呵呵\n"
     ]
    }
   ],
   "source": [
    "#global语句 -> 把局部变量变为全局变量\n",
    "def f():\n",
    "    global a\n",
    "    a = \"呵呵\"\n",
    "    return a\n",
    "a = 10\n",
    "print(a)\n",
    "print(f())\n",
    "print(a)"
   ]
  },
  {
   "cell_type": "code",
   "execution_count": 44,
   "metadata": {},
   "outputs": [
    {
     "name": "stdout",
     "output_type": "stream",
     "text": [
      "6\n",
      "6\n"
     ]
    }
   ],
   "source": [
    "#匿名函数lambda\n",
    "def f(a,b,c):\n",
    "    return(a+b+c)\n",
    "print(f(1,2,3))\n",
    "\n",
    "f = lambda a,b,c:a+b+c\n",
    "print(f(1,2,3))"
   ]
  },
  {
   "cell_type": "code",
   "execution_count": 45,
   "metadata": {},
   "outputs": [
    {
     "name": "stdout",
     "output_type": "stream",
     "text": [
      "5\n"
     ]
    }
   ],
   "source": [
    "##小作业\n",
    "#（1）用lambda创建一个球元素个数的匿名函数\n",
    "f = lambda lst:len(lst)\n",
    "print(f([1,2,3,45,6]))"
   ]
  },
  {
   "cell_type": "code",
   "execution_count": 46,
   "metadata": {},
   "outputs": [
    {
     "name": "stdout",
     "output_type": "stream",
     "text": [
      "[6, 5, 3, 2, 1]\n"
     ]
    }
   ],
   "source": [
    "#（2）定义一个函数,可将输入的所有数字从大到小依次排序\n",
    "def f(*var):\n",
    "    lst = list(var)\n",
    "    lst_re = sorted(lst,reverse = True)\n",
    "    return(lst_re)\n",
    "print(f(6,2,3,1,5))  "
   ]
  },
  {
   "cell_type": "code",
   "execution_count": 48,
   "metadata": {},
   "outputs": [
    {
     "name": "stdout",
     "output_type": "stream",
     "text": [
      "['B', 'A', 'B', 'B', 'A']\n",
      "83.4\n"
     ]
    }
   ],
   "source": [
    "#（3）定义一个函数,随机输入一个学生的成绩后，\n",
    " #学习成绩>=90分的同学用A表示，60-89分之间的用B表示,\n",
    " #60分以下的用C表示，最后输出成绩评分\n",
    "def f(*scores):\n",
    "    s = 0\n",
    "    m = []\n",
    "    for i in  scores:\n",
    "        if i >90 :\n",
    "            m.append('A')\n",
    "        elif i >60 and i<90:\n",
    "            m.append('B')\n",
    "        else:\n",
    "            m.append('C')\n",
    "        s += i\n",
    "    mean = s/len(scores)\n",
    "    return([m,mean])\n",
    "result = f(89,92,78,65,93)\n",
    "print(result[0]) #评分\n",
    "print(result[1]) #平均分"
   ]
  },
  {
   "cell_type": "code",
   "execution_count": 53,
   "metadata": {},
   "outputs": [
    {
     "name": "stdout",
     "output_type": "stream",
     "text": [
      "字母的个数为： 10\n",
      "空格的个数为： 2\n",
      "数字的个数为： 6\n"
     ]
    }
   ],
   "source": [
    "#（4）定义一个函数，可统计出任意的字符中英文字母，空格，数字和其他字符的个数\n",
    "st = 'abcdfr  djd975474j'\n",
    "'''\n",
    "st.isalpha()\n",
    "st.isspace()\n",
    "st.isdigit()\n",
    "'''\n",
    "\n",
    "def f(str):\n",
    "    count1 = 0\n",
    "    count2 = 0\n",
    "    count3 = 0\n",
    "    for i in str:\n",
    "        if i.isalpha() == True:\n",
    "            count1 += 1\n",
    "        elif i.isspace() == True:\n",
    "            count2 += 1\n",
    "        elif i.isdigit() == True:\n",
    "            count3 += 1\n",
    "        else:\n",
    "            continue\n",
    "    return ([count1,count2,count3])\n",
    "\n",
    "count = f(st)\n",
    "print('字母的个数为：' ,count[0])\n",
    "print('空格的个数为：' ,count[1])\n",
    "print('数字的个数为：' ,count[2])"
   ]
  },
  {
   "cell_type": "code",
   "execution_count": null,
   "metadata": {},
   "outputs": [],
   "source": []
  }
 ],
 "metadata": {
  "kernelspec": {
   "display_name": "Python 3",
   "language": "python",
   "name": "python3"
  },
  "language_info": {
   "codemirror_mode": {
    "name": "ipython",
    "version": 3
   },
   "file_extension": ".py",
   "mimetype": "text/x-python",
   "name": "python",
   "nbconvert_exporter": "python",
   "pygments_lexer": "ipython3",
   "version": "3.6.5"
  }
 },
 "nbformat": 4,
 "nbformat_minor": 2
}
