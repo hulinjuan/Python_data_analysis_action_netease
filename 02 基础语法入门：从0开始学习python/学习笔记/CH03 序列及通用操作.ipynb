{
 "cells": [
  {
   "cell_type": "code",
   "execution_count": null,
   "metadata": {},
   "outputs": [],
   "source": [
    "\"\"\"序列分类：可变序列list,不可变序列tuple,str\"\"\""
   ]
  },
  {
   "cell_type": "code",
   "execution_count": 1,
   "metadata": {},
   "outputs": [
    {
     "name": "stdout",
     "output_type": "stream",
     "text": [
      "True\n",
      "True\n",
      "True\n"
     ]
    }
   ],
   "source": [
    "#判断值是否属于序列\n",
    "lst = [1,2,3,4,5,6,7,8]\n",
    "a,b,c = 1,2.0,'hello'\n",
    "print(a in lst)\n",
    "print(b in lst)\n",
    "print(c not in lst)"
   ]
  },
  {
   "cell_type": "code",
   "execution_count": 4,
   "metadata": {},
   "outputs": [
    {
     "name": "stdout",
     "output_type": "stream",
     "text": [
      "['a', 'b', 1, 2, 3]\n",
      "[1, 2, 3]\n",
      "[1, 2, 3, 1, 2, 3, 1, 2, 3] ['a', 'b', 'a', 'b']\n"
     ]
    }
   ],
   "source": [
    "#序列链接与重复\n",
    "lst1 = [1,2,3]\n",
    "lst2 =['a','b']\n",
    "print(lst2+lst1)\n",
    "#lst1.append(lst2)\n",
    "print(lst1)\n",
    "print(lst1*3,lst2*2)"
   ]
  },
  {
   "cell_type": "code",
   "execution_count": 5,
   "metadata": {},
   "outputs": [
    {
     "name": "stdout",
     "output_type": "stream",
     "text": [
      "[1, 2, 3, 4, 5, 6, 7, 8]\n",
      "1 3 8\n",
      "8 6\n"
     ]
    }
   ],
   "source": [
    "#下标索引\n",
    "print(lst)\n",
    "print(lst[0],lst[2],lst[7])\n",
    "print(lst[-1],lst[-3])"
   ]
  },
  {
   "cell_type": "code",
   "execution_count": 6,
   "metadata": {},
   "outputs": [
    {
     "name": "stdout",
     "output_type": "stream",
     "text": [
      "[1, 2]\n"
     ]
    }
   ],
   "source": [
    "#切片\n",
    "print(lst[0:2])"
   ]
  },
  {
   "cell_type": "code",
   "execution_count": 10,
   "metadata": {},
   "outputs": [
    {
     "name": "stdout",
     "output_type": "stream",
     "text": [
      "[3, 5, 7]\n",
      "[1, 4]\n",
      "[2, 4, 6, 8]\n",
      "[1, 3, 5, 7]\n"
     ]
    }
   ],
   "source": [
    "#步长\n",
    "print(lst[2:7:2])\n",
    "print(lst[:6:3])\n",
    "print(lst[1::2])\n",
    "print(lst[::2])"
   ]
  },
  {
   "cell_type": "code",
   "execution_count": 11,
   "metadata": {},
   "outputs": [
    {
     "name": "stdout",
     "output_type": "stream",
     "text": [
      "8\n",
      "8 1 36\n",
      "6\n"
     ]
    }
   ],
   "source": [
    "#序列的基本内置函数\n",
    "print(len(lst))\n",
    "print(max(lst),min(lst),sum(lst)) #函数\n",
    "print(lst.index(7)) #方法"
   ]
  },
  {
   "cell_type": "code",
   "execution_count": 13,
   "metadata": {},
   "outputs": [
    {
     "name": "stdout",
     "output_type": "stream",
     "text": [
      "[0, 1, 2, 3, 4, 5, 6, 7, 8, 9, 1, 2, 3]\n",
      "[0, 1, 2, 3, 4, 5, 6, 7, 8, 9]\n",
      "[0, 1, 2, 3, 4, 5, 6, 7, 8, 9, 'a']\n",
      "[1, 2, 3, [3, 4, 5]]\n",
      "[1, 2, 3, 3, 4, 5]\n"
     ]
    }
   ],
   "source": [
    "\"\"\"list常用操作\"\"\""
   ]
  },
  {
   "cell_type": "code",
   "execution_count": null,
   "metadata": {},
   "outputs": [],
   "source": [
    "#可变列表list常用操作 ---添加元素\n",
    "lst =list(range(10))\n",
    "print(lst+[1,2,3])\n",
    "print(lst)\n",
    "lst.append('a')\n",
    "print(lst)\n",
    "\n",
    "a=[1,2,3]\n",
    "b=[3,4,5]\n",
    "a.append(b)\n",
    "print(a)\n",
    "\n",
    "a=[1,2,3]\n",
    "a.extend(b)\n",
    "print(a)"
   ]
  },
  {
   "cell_type": "code",
   "execution_count": 16,
   "metadata": {},
   "outputs": [
    {
     "name": "stdout",
     "output_type": "stream",
     "text": [
      "[0, 1, 2, 3, 4, 5, 6, 7, 8, 9]\n",
      "[0, 1, 2, 3, 4, 6, 7, 8, 9]\n",
      "[0, 1, 4, 6, 7, 8, 9]\n",
      "[]\n"
     ]
    }
   ],
   "source": [
    "#可变列表list常用操作  --删除元素\n",
    "lst = list(range(10))\n",
    "print(lst)\n",
    "lst.remove(5)\n",
    "print(lst)\n",
    "\n",
    "del lst[2:4]\n",
    "print(lst)\n",
    "\n",
    "lst.clear()\n",
    "print(lst)"
   ]
  },
  {
   "cell_type": "code",
   "execution_count": 19,
   "metadata": {},
   "outputs": [
    {
     "name": "stdout",
     "output_type": "stream",
     "text": [
      "[1, 2, 'a', 3]\n"
     ]
    }
   ],
   "source": [
    "#可变列表list常用操作  --插入元素\n",
    "lst = [1,2,3]\n",
    "lst.insert(2,'a')  #索引及插入值，shift + tab查看方法属性\n",
    "print(lst)"
   ]
  },
  {
   "cell_type": "code",
   "execution_count": 26,
   "metadata": {},
   "outputs": [
    {
     "name": "stdout",
     "output_type": "stream",
     "text": [
      "[0, 1, 2, 3, 4, 5, 6, 7, 8, 9]\n",
      "[0, 1, 2, 3, 4, 5, 6, 7, 8, 9]\n",
      "[0, 1, 2, 3, 4, 5, 6, 7, 8, 9]\n",
      "[0, 1, 101, 3, 4, 5, 6, 7, 8, 9]\n",
      "[0, 1, 101, 3, 4, 5, 6, 7, 8, 9]\n",
      "[0, 1, 2, 3, 4, 5, 6, 7, 8, 9]\n"
     ]
    }
   ],
   "source": [
    "#可变列表list常用操作  --复制\n",
    "lst = list(range(10))\n",
    "m = lst  #指向同一个数值对象\n",
    "n = lst.copy()\n",
    "print(lst)\n",
    "print(m)\n",
    "print(n)\n",
    "lst[2] = 101\n",
    "print(lst)\n",
    "print(m)\n",
    "print(n)"
   ]
  },
  {
   "cell_type": "code",
   "execution_count": 30,
   "metadata": {},
   "outputs": [
    {
     "name": "stdout",
     "output_type": "stream",
     "text": [
      "None [222, 66, 5, 4, 3, 1] ['asd', 'fzc', 'sdfg']\n",
      "[1, 3, 4, 5, 66, 222] [1, 222, 3, 4, 66, 5]\n"
     ]
    }
   ],
   "source": [
    "#可变列表list常用操作  --排序\n",
    "lst = [1,222,3,4,66,5]\n",
    "lst2 = ['asd','sdfg','fzc']\n",
    "lst1= lst.sort(reverse=True)\n",
    "lst2.sort()\n",
    "print(lst1,lst,lst2)\n",
    "#sort方法\n",
    "\n",
    "lst = [1,222,3,4,66,5]\n",
    "lst3 = sorted(lst)\n",
    "print(lst3,lst)\n",
    "#sorted函数，排序并复制"
   ]
  },
  {
   "cell_type": "code",
   "execution_count": 2,
   "metadata": {},
   "outputs": [
    {
     "data": {
      "text/plain": [
       "'字符串常用操作'"
      ]
     },
     "execution_count": 2,
     "metadata": {},
     "output_type": "execute_result"
    }
   ],
   "source": [
    "\"\"\"字符串常用操作\"\"\""
   ]
  },
  {
   "cell_type": "code",
   "execution_count": 5,
   "metadata": {},
   "outputs": [
    {
     "name": "stdout",
     "output_type": "stream",
     "text": [
      "i'm handsome\n",
      "i'm ugly\n",
      "hahaha\n",
      "heheha\n"
     ]
    }
   ],
   "source": [
    "#字符串替换\n",
    "st  = \"i'm handsome\"\n",
    "st2 = st.replace('handsome','ugly')\n",
    "print(st)\n",
    "print(st2)\n",
    "st = 'hahaha'\n",
    "st2 = st.replace('ha','he',2)\n",
    "print(st)\n",
    "print(st2)"
   ]
  },
  {
   "cell_type": "code",
   "execution_count": 6,
   "metadata": {},
   "outputs": [
    {
     "name": "stdout",
     "output_type": "stream",
     "text": [
      "['poi01', '114', '445', '89', '789292']\n"
     ]
    }
   ],
   "source": [
    "#str.split():拆分字符串，生成列表\n",
    "st = \"poi01,114,445,89,789292\"\n",
    "lst = st.split(',')\n",
    "print(lst)"
   ]
  },
  {
   "cell_type": "code",
   "execution_count": 8,
   "metadata": {},
   "outputs": [
    {
     "name": "stdout",
     "output_type": "stream",
     "text": [
      "poi01-114-445-89-789292\n"
     ]
    }
   ],
   "source": [
    "#str.join():链接字符串，对象为列表\n",
    "m = '-'\n",
    "st2 = m.join(lst)\n",
    "print(st2)"
   ]
  },
  {
   "cell_type": "code",
   "execution_count": 10,
   "metadata": {},
   "outputs": [
    {
     "name": "stdout",
     "output_type": "stream",
     "text": [
      "True False\n"
     ]
    }
   ],
   "source": [
    "#str.startswith(\"str\")判断是否以\"str\"开头，st.endswith(\"str\")判断是否以\"str\"结尾\n",
    "st = 'abcdefg'\n",
    "print(st.startswith('a'),st.endswith('f'))"
   ]
  },
  {
   "cell_type": "code",
   "execution_count": 11,
   "metadata": {
    "scrolled": true
   },
   "outputs": [
    {
     "name": "stdout",
     "output_type": "stream",
     "text": [
      "ABDEAJE KLM\n",
      "abdeaje klm\n",
      "AbdeaJE kLM\n",
      "Abdeaje klm\n"
     ]
    }
   ],
   "source": [
    "#大小写转换\n",
    "st = 'aBDEAje Klm'\n",
    "print(st.upper())  #全部大写\n",
    "print(st.lower()) #全部小写\n",
    "print(st.swapcase()) #大小写互换\n",
    "print(st.capitalize()) #首字母大写"
   ]
  },
  {
   "cell_type": "code",
   "execution_count": 13,
   "metadata": {},
   "outputs": [
    {
     "name": "stdout",
     "output_type": "stream",
     "text": [
      "True\n",
      "True\n",
      "adv\n"
     ]
    }
   ],
   "source": [
    "st = '1234567'\n",
    "print(st.isnumeric())  #如果string只包含数字，则返回True,否则返回False\n",
    "st = 'DNVAK'\n",
    "print(st.isalpha()) #如果string至少有一个字符并且所有字符都是字母则返回True,否则返回False\n",
    "st='adv  '\n",
    "print(st.rstrip()) #删除字符串空格"
   ]
  },
  {
   "cell_type": "code",
   "execution_count": 14,
   "metadata": {},
   "outputs": [
    {
     "name": "stdout",
     "output_type": "stream",
     "text": [
      "Hu is 好人\n"
     ]
    }
   ],
   "source": [
    "#格式化字符串，在字符串中插入变量\n",
    "name = 'Hu'\n",
    "print('%s is 好人' %name)\n",
    "#i/s/f 整形，字符串，浮点型  %e %E科学计数法 %g小数位数少时自动识别为浮点数，数据复杂时自动识别为科学计数法"
   ]
  },
  {
   "cell_type": "code",
   "execution_count": 15,
   "metadata": {},
   "outputs": [
    {
     "name": "stdout",
     "output_type": "stream",
     "text": [
      "今天天气怎么样,非常好\n",
      "您好！谢谢\n"
     ]
    }
   ],
   "source": [
    "#更强大的格式化方法:format\n",
    "print(\"今天天气怎么样{}\".format(',非常好'))\n",
    "st = '您好！{}'\n",
    "print(st.format('谢谢'))"
   ]
  },
  {
   "cell_type": "code",
   "execution_count": 19,
   "metadata": {},
   "outputs": [
    {
     "name": "stdout",
     "output_type": "stream",
     "text": [
      "abc \n",
      " abba \n",
      "\n",
      "我的工作是数据分析\n"
     ]
    }
   ],
   "source": [
    "print(\"{}{}{}\".format('a','b','c'),'\\n',\n",
    "     \"{0}{1}{1}{0}\".format('a','b','c'),'\\n')\n",
    "print(\"我的工作是{work}\".format(work=\"数据分析\"))\n",
    "#{}和{0}的区别：都是占位符，后者有明确指定，也可以用变量指示"
   ]
  },
  {
   "cell_type": "code",
   "execution_count": 20,
   "metadata": {},
   "outputs": [
    {
     "name": "stdout",
     "output_type": "stream",
     "text": [
      "abcdef abc{}\n"
     ]
    }
   ],
   "source": [
    "x = 'abc{}'\n",
    "a = x.format(\"def\")\n",
    "print(a,x)\n",
    "#.format()生成新的值吗？会生成新的值，不会改变以前的值"
   ]
  },
  {
   "cell_type": "code",
   "execution_count": null,
   "metadata": {},
   "outputs": [],
   "source": []
  }
 ],
 "metadata": {
  "kernelspec": {
   "display_name": "Python 3",
   "language": "python",
   "name": "python3"
  },
  "language_info": {
   "codemirror_mode": {
    "name": "ipython",
    "version": 3
   },
   "file_extension": ".py",
   "mimetype": "text/x-python",
   "name": "python",
   "nbconvert_exporter": "python",
   "pygments_lexer": "ipython3",
   "version": "3.6.5"
  }
 },
 "nbformat": 4,
 "nbformat_minor": 2
}
