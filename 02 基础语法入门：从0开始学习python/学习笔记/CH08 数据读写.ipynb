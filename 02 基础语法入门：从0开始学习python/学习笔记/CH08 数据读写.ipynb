{
 "cells": [
  {
   "cell_type": "code",
   "execution_count": null,
   "metadata": {},
   "outputs": [],
   "source": [
    "\"\"\"文件对象声明及基本操作\"\"\""
   ]
  },
  {
   "cell_type": "code",
   "execution_count": 3,
   "metadata": {},
   "outputs": [
    {
     "name": "stdout",
     "output_type": "stream",
     "text": [
      "C:\\Users\\lindsay.hu\\Desktop\\test.txt\n",
      "C:\\Users\\lindsay.hu\\Desktop\\test.txt\n",
      "C:/Users/lindsay.hu/Desktop/test.txt\n"
     ]
    }
   ],
   "source": [
    "#本地文件的界定：指向一个本地存储文件，是一个链接或映射\n",
    "path1 = \"C:\\\\Users\\\\lindsay.hu\\\\Desktop\\\\test.txt\"\n",
    "path2 = r\"C:\\Users\\lindsay.hu\\Desktop\\test.txt\"\n",
    "path3 = \"C:/Users/lindsay.hu/Desktop/test.txt\"\n",
    "print(path1)\n",
    "print(path2)\n",
    "print(path3)"
   ]
  },
  {
   "cell_type": "code",
   "execution_count": 13,
   "metadata": {},
   "outputs": [
    {
     "name": "stdout",
     "output_type": "stream",
     "text": [
      "<class '_io.TextIOWrapper'>\n",
      "<_io.TextIOWrapper name='C:\\\\Users\\\\lindsay.hu\\\\Desktop\\\\test.txt' mode='r' encoding='utf8'>\n",
      "﻿好好学习，天天向上\n",
      "读取完毕\n",
      "二次读取\n",
      "\n",
      "三次读取\n",
      "﻿好好学习，天天向上\n",
      "三次读取完毕\n",
      "四次读取\n"
     ]
    },
    {
     "ename": "ValueError",
     "evalue": "I/O operation on closed file.",
     "output_type": "error",
     "traceback": [
      "\u001b[1;31m---------------------------------------------------------------------------\u001b[0m",
      "\u001b[1;31mValueError\u001b[0m                                Traceback (most recent call last)",
      "\u001b[1;32m<ipython-input-13-9ef23dfe045c>\u001b[0m in \u001b[0;36m<module>\u001b[1;34m()\u001b[0m\n\u001b[0;32m     15\u001b[0m \u001b[0mf\u001b[0m\u001b[1;33m.\u001b[0m\u001b[0mclose\u001b[0m\u001b[1;33m(\u001b[0m\u001b[1;33m)\u001b[0m\u001b[1;33m\u001b[0m\u001b[0m\n\u001b[0;32m     16\u001b[0m \u001b[0mprint\u001b[0m\u001b[1;33m(\u001b[0m\u001b[1;34m\"四次读取\"\u001b[0m\u001b[1;33m)\u001b[0m\u001b[1;33m\u001b[0m\u001b[0m\n\u001b[1;32m---> 17\u001b[1;33m \u001b[0mprint\u001b[0m\u001b[1;33m(\u001b[0m\u001b[0mf\u001b[0m\u001b[1;33m.\u001b[0m\u001b[0mread\u001b[0m\u001b[1;33m(\u001b[0m\u001b[1;33m)\u001b[0m\u001b[1;33m)\u001b[0m\u001b[1;33m\u001b[0m\u001b[0m\n\u001b[0m\u001b[0;32m     18\u001b[0m \u001b[0mprint\u001b[0m\u001b[1;33m(\u001b[0m\u001b[1;34m\"四次读取完毕\"\u001b[0m\u001b[1;33m)\u001b[0m\u001b[1;33m\u001b[0m\u001b[0m\n",
      "\u001b[1;31mValueError\u001b[0m: I/O operation on closed file."
     ]
    }
   ],
   "source": [
    "#读取文件，open语句，r读取，w写入\n",
    "f = open(path1,'r',encoding='utf8')\n",
    "print(type(f))\n",
    "print(f)\n",
    "print(f.read())\n",
    "print(\"读取完毕\")\n",
    "print(\"二次读取\")\n",
    "print(f.read())   #m默认读取完毕之后光标停留在末尾\n",
    "\n",
    "f.seek(0)        #将光标停留在第一位\n",
    "print(\"三次读取\")\n",
    "print(f.read())\n",
    "print(\"三次读取完毕\")\n",
    "\n",
    "f.close()\n",
    "print(\"四次读取\")\n",
    "print(f.read())\n",
    "print(\"四次读取完毕\")"
   ]
  },
  {
   "cell_type": "code",
   "execution_count": null,
   "metadata": {},
   "outputs": [],
   "source": []
  },
  {
   "cell_type": "code",
   "execution_count": 24,
   "metadata": {},
   "outputs": [
    {
     "name": "stdout",
     "output_type": "stream",
     "text": [
      "nt\n",
      "C:\\Users\\lindsay.hu\\python数据分析师学习\n",
      "['.ipynb_checkpoints', 'CH02 变量及数据类型.ipynb', 'CH03 序列及通用操作.ipynb', 'CH08 数据读写.ipynb', 'test.ipynb']\n",
      "C:\\Users\\lindsay.hu\\python数据分析师学习\n",
      "['.ipynb_checkpoints', 'CH02 变量及数据类型.ipynb', 'CH03 序列及通用操作.ipynb', 'CH08 数据读写.ipynb', 'test.ipynb']\n",
      "('C:\\\\Users\\\\lindsay.hu\\\\Desktop', 'test.txt') <class 'tuple'>\n",
      "True\n"
     ]
    }
   ],
   "source": [
    "#os模块：系统模块 - 常用命令\n",
    "import os\n",
    "print(os.name)\n",
    "print(os.getcwd())\n",
    "print(os.listdir())\n",
    "\n",
    "#改工作路径\n",
    "os.chdir('C:\\\\Users\\\\lindsay.hu\\\\python数据分析师学习')\n",
    "print(os.getcwd())\n",
    "print(os.listdir())\n",
    "\n",
    "#os.remove('test.txt')\n",
    "flst = os.path.split('C:\\\\Users\\\\lindsay.hu\\\\Desktop\\\\test.txt')\n",
    "print(flst,type(flst))\n",
    "print(os.path.exists('C:\\\\Users\\\\lindsay.hu\\\\Desktop\\\\test.txt'))"
   ]
  },
  {
   "cell_type": "code",
   "execution_count": 35,
   "metadata": {},
   "outputs": [
    {
     "name": "stdout",
     "output_type": "stream",
     "text": [
      "﻿好好学习\n",
      "，天天向上\n"
     ]
    }
   ],
   "source": [
    "path1 = \"C:\\\\Users\\\\lindsay.hu\\\\Desktop\\\\test.txt\"\n",
    "f = open(path1,'r',encoding='utf8')\n",
    "print(f.read(5))\n",
    "print(f.read(5))"
   ]
  },
  {
   "cell_type": "code",
   "execution_count": 38,
   "metadata": {},
   "outputs": [
    {
     "name": "stdout",
     "output_type": "stream",
     "text": [
      "﻿好好学习，天天向上\n",
      "\n",
      "数据分析，非常强大\n",
      "﻿好好学习\n"
     ]
    }
   ],
   "source": [
    "f.seek(0)\n",
    "print(f.readline())\n",
    "print(f.readline())\n",
    "f.seek(0)\n",
    "print(f.readline(5))"
   ]
  },
  {
   "cell_type": "code",
   "execution_count": 41,
   "metadata": {},
   "outputs": [
    {
     "name": "stdout",
     "output_type": "stream",
     "text": [
      "['\\ufeff好好学习，天天向上\\n', '数据分析，非常强大']\n",
      "﻿好好学习，天天向上\n",
      "\n",
      "数据分析，非常强大\n"
     ]
    }
   ],
   "source": [
    "f.seek(0)\n",
    "print(f.readlines())\n",
    "f.seek(0)\n",
    "for i in f.readlines():\n",
    "    print(i)"
   ]
  },
  {
   "cell_type": "code",
   "execution_count": 43,
   "metadata": {},
   "outputs": [],
   "source": [
    "f_w = open(\"C:\\\\Users\\\\lindsay.hu\\\\Desktop\\\\test_w.txt\",'w',encoding='utf8')\n",
    "f_w.write('hello,world!')\n",
    "f.close()"
   ]
  },
  {
   "cell_type": "code",
   "execution_count": 45,
   "metadata": {},
   "outputs": [
    {
     "name": "stdout",
     "output_type": "stream",
     "text": [
      "['1\\n', '2\\n', 'c\\n']\n",
      "finished\n"
     ]
    }
   ],
   "source": [
    "f_w = open(\"C:\\\\Users\\\\lindsay.hu\\\\Desktop\\\\test_w.txt\",'w',encoding='utf8')\n",
    "lst = ['1','2','c']\n",
    "for i in range(len(lst)):\n",
    "    lst[i] = lst[i] + '\\n'\n",
    "print(lst)\n",
    "f_w.writelines(lst)\n",
    "f_w.close()\n",
    "print(\"finished\")"
   ]
  },
  {
   "cell_type": "code",
   "execution_count": 3,
   "metadata": {},
   "outputs": [
    {
     "name": "stdout",
     "output_type": "stream",
     "text": [
      "['1,a\\n', '2,b\\n', '3,c\\n', '4,d\\n', '5,e\\n', '6,f\\n', '7,g\\n', '8,h\\n', '9,i\\n', '10,j\\n']\n"
     ]
    }
   ],
   "source": [
    "lst1 = list(range(1,11))\n",
    "lst2 = ['a','b','c','d','e','f','g','h','i','j']\n",
    "f= open('C:\\\\Users\\\\lindsay.hu\\\\Desktop\\\\test_zy2.txt','w')\n",
    "m = []\n",
    "\n",
    "for i in range(len(lst1)):\n",
    "    lst = str(lst1[i])+','+lst2[i]+'\\n'\n",
    "    m.append(lst)\n",
    "    f.writelines(lst)\n",
    "\n",
    "f.close()\n",
    "print(m)"
   ]
  },
  {
   "cell_type": "code",
   "execution_count": 5,
   "metadata": {},
   "outputs": [
    {
     "name": "stdout",
     "output_type": "stream",
     "text": [
      "{'a': [1, 2, 3, 4], 'b': 1, 'c': 'hello world!'}\n",
      "finished!\n"
     ]
    }
   ],
   "source": [
    "#存储：pickle.dump(obj,file,[,protocol])\n",
    "\n",
    "import pickle\n",
    "import os\n",
    "\n",
    "data = {'a':[1,2,3,4],'b':1,'c':'hello world!'}\n",
    "print(data)\n",
    "\n",
    "pic = open('C:\\\\Users\\\\lindsay.hu\\\\Desktop\\\\data.pkl','wb')\n",
    "pickle.dump(data,pic)\n",
    "pic.close()\n",
    "print('finished!')"
   ]
  },
  {
   "cell_type": "code",
   "execution_count": 6,
   "metadata": {},
   "outputs": [
    {
     "name": "stdout",
     "output_type": "stream",
     "text": [
      "{'a': [1, 2, 3, 4], 'b': 1, 'c': 'hello world!'}\n"
     ]
    }
   ],
   "source": [
    "#读取\n",
    "pic2 = open('C:\\\\Users\\\\lindsay.hu\\\\Desktop\\\\data.pkl','rb')\n",
    "data = pickle.load(pic2)\n",
    "print(data)"
   ]
  },
  {
   "cell_type": "code",
   "execution_count": null,
   "metadata": {},
   "outputs": [],
   "source": []
  }
 ],
 "metadata": {
  "kernelspec": {
   "display_name": "Python 3",
   "language": "python",
   "name": "python3"
  },
  "language_info": {
   "codemirror_mode": {
    "name": "ipython",
    "version": 3
   },
   "file_extension": ".py",
   "mimetype": "text/x-python",
   "name": "python",
   "nbconvert_exporter": "python",
   "pygments_lexer": "ipython3",
   "version": "3.6.5"
  }
 },
 "nbformat": 4,
 "nbformat_minor": 2
}
